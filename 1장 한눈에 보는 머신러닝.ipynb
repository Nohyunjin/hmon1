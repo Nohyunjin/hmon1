{
 "cells": [
  {
   "cell_type": "markdown",
   "id": "4bd198ba",
   "metadata": {},
   "source": [
    "# 한눈에 보는 머신러닝"
   ]
  },
  {
   "cell_type": "markdown",
   "id": "d66381a4",
   "metadata": {},
   "source": [
    "## 머신러닝이란?\n",
    "\n",
    "- 명시적인 프로그래밍 없이 컴퓨터가 학습하는 능력을 갖추게 하는 연구 분야. - 아서 새뮤얼\n",
    "- 작업 T에 대한 컴퓨터 프로그램의 성능을 P로 측정했을때, 경험 E로 인해 성능이 향상됐다면 이 프로그램은 작업 T와 성능 측정 P에 대해 경험 E로 학습한 것. - 톰 미첼"
   ]
  },
  {
   "cell_type": "markdown",
   "id": "4665c845",
   "metadata": {},
   "source": [
    "## 머신러닝을 사용하는 이유\n",
    "- 전통적인 프로그래밍 방식의 절차\n",
    "    - 문제 연구\n",
    "    - 규칙 작성\n",
    "    - 평가\n",
    "    - 오차 분석\n",
    "    - Publishing\n",
    "- 머신러닝(ML) 방식\n",
    "    - 문제 연구\n",
    "    - 머신러닝 알고리즘 훈련 <- 데이터를 주입\n",
    "    - 솔루션 평가\n",
    "    - 오차분석\n",
    "    - Publishing"
   ]
  },
  {
   "cell_type": "markdown",
   "id": "11994075",
   "metadata": {},
   "source": [
    "## 대표적인 머신러닝 애플리케이션\n",
    "- 제품이미지를 보고 자동으로 분류\n",
    "    - CNN\n",
    "- 자동으로 뉴스 기사를 분류\n",
    "    - NLP <- RNN, CNN, 트랜스폼\n",
    "- 내년 회사의 수익을 예측\n",
    "    - 회귀\n",
    "- 음성을 듣고 이해하는 앱\n",
    "    - RNN\n",
    "- 구매 이력을 기반으로 고객 분류\n",
    "    - 군집"
   ]
  },
  {
   "cell_type": "markdown",
   "id": "a8761b59",
   "metadata": {},
   "source": [
    "## 머신러닝 시스템의 종류\n",
    "- 훈련 감독 방법 : 지도 학습, 비지도 학습, 준지도 학습, 강화 학습\n",
    "- 훈련 시점 : 온라인 학습과 배치 학습\n",
    "- 모델 생성 : 사례 기반 학습과 모델 기반 학습"
   ]
  },
  {
   "cell_type": "markdown",
   "id": "bde15afb",
   "metadata": {},
   "source": [
    "### 지도 학습\n",
    "- 선형 회귀\n",
    "- 로지스틱 회귀\n",
    "- 서포트 벡터 머신\n",
    "- 결정 트리와 앙상블\n",
    "- 신경망"
   ]
  },
  {
   "cell_type": "markdown",
   "id": "978187a5",
   "metadata": {},
   "source": [
    "### 비지도 학습\n",
    "- k-평균\n",
    "- DBSCAN\n",
    "- PCA\n",
    "- 가우시안 혼합\n",
    "- 오토인코더"
   ]
  },
  {
   "cell_type": "markdown",
   "id": "1ab76e60",
   "metadata": {},
   "source": [
    "### 준지도 학습, 강화 학습\n",
    "- 준지도 학습 : 정답이 일부만 있는 경우\n",
    "- 강화 학습 : 행동의 보상이 있는 경우\n",
    "    - 관찰을 통해 정책에 따른 행동을 실행\n",
    "    - 행동에 따라 보상이나 벌점을 받음\n",
    "    - 보상이 최대가 될 수 있게 반복"
   ]
  },
  {
   "cell_type": "markdown",
   "id": "4a546750",
   "metadata": {},
   "source": [
    "### 온라인 학습과 배치 학습\n",
    "- 온라인 학습\n",
    "    - 적은 데이터를 사용해 점진적으로 훈련\n",
    "    - 실시간 시스템이나 메모리가 부족할 경우 사용\n",
    "- 배치 학습\n",
    "    - 전체 데이터를 사용해서 오프라인에서 훈련\n",
    "    - 컴퓨팅 자원이 풍부한 경우에 사용"
   ]
  },
  {
   "cell_type": "markdown",
   "id": "94453de0",
   "metadata": {},
   "source": [
    "### 사례 기반 학습 vs 모델 기반 학습\n",
    "- 사례 기반 학습\n",
    "    - 샘플을 기억하는 것이 훈련\n",
    "    - 예측을 위해 샘플 사이의 유사도를 측정\n",
    "- 모델 기반 학습\n",
    "    - 샘플을 사용해 모델을 훈련\n",
    "    - 훈련된 모델을 사용해서 예측"
   ]
  },
  {
   "cell_type": "markdown",
   "id": "4935e772",
   "metadata": {},
   "source": [
    "## 모델 기반 학습 예제\n",
    "- 돈이 사람을 행복하게 만드는가?(1인당 GDP와 삶의 만족도 그래프)\n",
    "- 삶의 만족도 = B0 + B1 x 1인당 GDP\n",
    "- B0, B1 : 모델 파라미터\n",
    "- 머신러닝이랑 데이터의 분포를 잘 설명할 수 있는 B0와 B1을 찾는 방법이다."
   ]
  },
  {
   "cell_type": "code",
   "execution_count": 3,
   "id": "eef28e11",
   "metadata": {},
   "outputs": [],
   "source": [
    "#실습 예제\n",
    "\n",
    "def prepare_country_stats(oecd_bli, gdp_per_capita):\n",
    "    oecd_bli = oecd_bli[oecd_bli[\"INEQUALITY\"]==\"TOT\"]\n",
    "    oecd_bli = oecd_bli.pivot(index=\"Country\", columns=\"Indicator\", values=\"Value\")\n",
    "    gdp_per_capita.rename(columns={\"2015\": \"GDP per capita\"}, inplace=True)\n",
    "    gdp_per_capita.set_index(\"Country\", inplace=True)\n",
    "    full_country_stats = pd.merge(left=oecd_bli, right=gdp_per_capita,\n",
    "                                  left_index=True, right_index=True)\n",
    "    full_country_stats.sort_values(by=\"GDP per capita\", inplace=True)\n",
    "    remove_indices = [0, 1, 6, 8, 33, 34, 35]\n",
    "    keep_indices = list(set(range(36)) - set(remove_indices))\n",
    "    return full_country_stats[[\"GDP per capita\", 'Life satisfaction']].iloc[keep_indices]"
   ]
  },
  {
   "cell_type": "code",
   "execution_count": 4,
   "id": "4af2db00",
   "metadata": {},
   "outputs": [],
   "source": [
    "%matplotlib inline\n",
    "import matplotlib as mpl\n",
    "mpl.rc('axes', labelsize=14)\n",
    "mpl.rc('xtick', labelsize=12)\n",
    "mpl.rc('ytick', labelsize=12)"
   ]
  },
  {
   "cell_type": "code",
   "execution_count": 8,
   "id": "9dcc5941",
   "metadata": {},
   "outputs": [
    {
     "data": {
      "image/png": "[encoded data removed]",
      "text/plain": [
       "<Figure size 432x288 with 1 Axes>"
      ]
     },
     "metadata": {
      "image/png": {
       "height": 268,
       "width": 393
      },
      "needs_background": "light"
     },
     "output_type": "display_data"
    },
    {
     "name": "stdout",
     "output_type": "stream",
     "text": [
      "[[5.96242338]]\n"
     ]
    }
   ],
   "source": [
    "import matplotlib.pyplot as plt\n",
    "import numpy as np\n",
    "import pandas as pd\n",
    "import sklearn.linear_model\n",
    "\n",
    "# 데이터 적재\n",
    "oecd_bli = pd.read_csv(\"oecd_bli_2015.csv\", thousands=',')\n",
    "gdp_per_capita = pd.read_csv(\"gdp_per_capita.csv\",thousands=',',delimiter='\\t',\n",
    "                             encoding='latin1', na_values=\"n/a\")\n",
    "\n",
    "# 데이터 준비\n",
    "country_stats = prepare_country_stats(oecd_bli, gdp_per_capita)\n",
    "# np.c_는 [1,2,3], [4,5,6]을 [[1,4],[2,5],[3,6]]으로 바꿔줌\n",
    "X = np.c_[country_stats[\"GDP per capita\"]]\n",
    "# [1,2,3]일 경우 [[1],[2],[3]]으로 나옴\n",
    "# 혹은 country_status[\"GDP per capita\"].to_numpy().reshape(-1,1)\n",
    "y = np.c_[country_stats[\"Life satisfaction\"]]\n",
    "\n",
    "# 데이터 시각화\n",
    "country_stats.plot(kind='scatter', x=\"GDP per capita\", y='Life satisfaction')\n",
    "plt.show()\n",
    "\n",
    "# 선형 모델 선택\n",
    "model = sklearn.linear_model.LinearRegression()\n",
    "\n",
    "# 모델 훈련\n",
    "model.fit(X, y)\n",
    "\n",
    "# 키프로스에 대한 예측\n",
    "X_new = [[22587]]  # 키프로스 1인당 GDP\n",
    "print(model.predict(X_new)) # 출력 [[ 5.96242338]]"
   ]
  },
  {
   "cell_type": "code",
   "execution_count": 10,
   "id": "25203194",
   "metadata": {},
   "outputs": [
    {
     "data": {
      "image/png": "[encoded data removed]",
      "text/plain": [
       "<Figure size 432x288 with 1 Axes>"
      ]
     },
     "metadata": {
      "image/png": {
       "height": 250,
       "width": 375
      },
      "needs_background": "light"
     },
     "output_type": "display_data"
    }
   ],
   "source": [
    "plt.scatter(X, y)\n",
    "plt.scatter(22587, 5.96)\n",
    "plt.show()"
   ]
  },
  {
   "cell_type": "markdown",
   "id": "b130b4b3",
   "metadata": {},
   "source": [
    "### 요약\n",
    "- 데이터 준비(특성, 타깃)\n",
    "- 모델 선택(선형 회귀)\n",
    "- 모델 훈련(fit 메서드 호출)\n",
    "- 새로운 데이터에 대한 예측 또는 추론(inference)"
   ]
  },
  {
   "cell_type": "markdown",
   "id": "2f33eadd",
   "metadata": {},
   "source": [
    "## 머신 러닝의 주요 도전 과제"
   ]
  },
  {
   "cell_type": "markdown",
   "id": "8cbf97ed",
   "metadata": {},
   "source": [
    "### 충분하지 않은 양의 훈련 데이터\n",
    "- 간단한 문제라도 수천 개의 데이터가 필요\n",
    "- 이미지나 음성 인식 같은 문제는 수백만개가 필요.\n",
    "- 딥러닝 발전의 원동력"
   ]
  },
  {
   "cell_type": "markdown",
   "id": "3d9f488f",
   "metadata": {},
   "source": [
    "### 대표성 없는 훈련 데이터\n",
    "- 우연에 의해 대표성이 없는 데이터를 샘플링 잡음이라 함.\n",
    "- 표본 추출 방법이 잘못된 대표성이 없는 데이터를 샘플링 편향이라 함."
   ]
  },
  {
   "cell_type": "markdown",
   "id": "05d2ca80",
   "metadata": {},
   "source": [
    "### 낮은 품질의 데이터\n",
    "- 이상치 샘플이라면 고치거나 무시\n",
    "- 특성이 누락되었을 때\n",
    "    - 해당 특성을 제외\n",
    "    - 해당 샘플을 제외\n",
    "    - 결측치를 채움\n",
    "    - 해당 특성을 넣은 경우과 뺀 경우 각기 모델을 훈련"
   ]
  },
  {
   "cell_type": "markdown",
   "id": "a8042593",
   "metadata": {},
   "source": [
    "### 관련 없는 특성\n",
    "- 특성 공학은 풀려는 문제에 관련이 높은 특성을 찾음\n",
    "    - 특성 선택 : 준비되어 있는 특성 중 가장 유용한 특성을 찾음.\n",
    "    - 특성 추출 : 특성을 조합하여 새로운 특성을 만듦."
   ]
  },
  {
   "cell_type": "markdown",
   "id": "0637db04",
   "metadata": {},
   "source": [
    "### 과대 적합\n",
    "- 훈련 세트에 너무 잘 맞아서 일반화 성능이 낮은 현상.\n",
    "- 규제를 사용해 과대적합을 감소."
   ]
  },
  {
   "cell_type": "markdown",
   "id": "2a02aa30",
   "metadata": {},
   "source": [
    "### 과소 적합\n",
    "- 과대적합의 반대\n",
    "- 모델이 너무 단순해서 훈련 세트를 학습하지 못함.\n",
    "- 해결 방법\n",
    "    - 모델 파라미터가 더 많은 모델을 사용.\n",
    "    - 특성 공학으로 더 좋은 특성을 찾음.\n",
    "    - 규제의 강도를 줄임."
   ]
  },
  {
   "cell_type": "markdown",
   "id": "d122a02d",
   "metadata": {},
   "source": [
    "### 테스트 세트와 검증 세트\n",
    "- 모델의 일반화 성능을 측정하기 위해 훈련 세트와 테스트 세트로 나눔.\n",
    "- 훈련 세트로 모델을 훈련하고 테스트 세트로 모델의 일반화 성능을 측정.\n",
    "- 하이퍼파라미터는 알고리즘을 조절하기 위해 사전에 정의하는 파라미터.\n",
    "- 테스트 세트를 사용해 여러 모델을 평가하면 테스트 세트에 과대적합됨.\n",
    "- 모델 선택을 위해 훈련 세트, 검증 세트, 테스트 세트로 나눔"
   ]
  },
  {
   "cell_type": "markdown",
   "id": "b995f3e7",
   "metadata": {},
   "source": [
    "### 훈련 - 개발 세트\n",
    "- 대량의 데이터를 얻기 위해 실전과 다른 데이터로 훈련 세트를 만들때\n",
    "- 이런 경우 검증 세트 점수가 과대적합과 데이터 불일치 중 어떤 것이 원인인지 알 수가 없음.\n",
    "- 해결 방안\n",
    "    - 훈련 - 개발 세트 성능이 낮으면 과대 적합\n",
    "    - 검증 세트 성능이 낮다면 데이터 불일치 문제"
   ]
  }
 ],
 "metadata": {
  "kernelspec": {
   "display_name": "Python 3 (ipykernel)",
   "language": "python",
   "name": "python3"
  },
  "language_info": {
   "codemirror_mode": {
    "name": "ipython",
    "version": 3
   },
   "file_extension": ".py",
   "mimetype": "text/x-python",
   "name": "python",
   "nbconvert_exporter": "python",
   "pygments_lexer": "ipython3",
   "version": "3.9.7"
  },
  "toc": {
   "base_numbering": 1,
   "nav_menu": {},
   "number_sections": true,
   "sideBar": true,
   "skip_h1_title": false,
   "title_cell": "Table of Contents",
   "title_sidebar": "Contents",
   "toc_cell": false,
   "toc_position": {},
   "toc_section_display": true,
   "toc_window_display": false
  }
 },
 "nbformat": 4,
 "nbformat_minor": 5
}
